{
 "cells": [
  {
   "cell_type": "code",
   "execution_count": 1,
   "metadata": {},
   "outputs": [
    {
     "name": "stderr",
     "output_type": "stream",
     "text": [
      "/usr/local/Cellar/python3/3.6.3/Frameworks/Python.framework/Versions/3.6/lib/python3.6/importlib/_bootstrap.py:219: RuntimeWarning: compiletime version 3.5 of module 'tensorflow.python.framework.fast_tensor_util' does not match runtime version 3.6\n",
      "  return f(*args, **kwds)\n"
     ]
    }
   ],
   "source": [
    "from vgg19 import BallerVgg\n",
    "import os\n",
    "import tensorflow as tf\n",
    "\n",
    "import numpy as np\n",
    "import time\n",
    "import inspect\n",
    "from PIL import Image\n",
    "import urllib.request\n",
    "#import utils\n"
   ]
  },
  {
   "cell_type": "code",
   "execution_count": 2,
   "metadata": {},
   "outputs": [],
   "source": [
    "URL = \"http://vignette4.wikia.nocookie.net/roblox-apocalypse-rising/images/0/05/Cat.png/revision/latest?cb=20130815092838\"\n",
    "\n",
    "with urllib.request.urlopen(URL) as url:\n",
    "    with open('temp.png', 'wb') as f:\n",
    "        f.write(url.read())\n",
    "\n",
    "cat = Image.open('temp.png', 'r')\n",
    "cat = cat.resize((224, 224), Image.ANTIALIAS)\n",
    "size = cat.size\n",
    "img = np.asarray(list(cat.getdata()))\n",
    "img = img.reshape([size[0], size[1], 3])\n",
    "img = img.astype('float32')\n",
    "img = np.divide(img, 255)"
   ]
  },
  {
   "cell_type": "code",
   "execution_count": 4,
   "metadata": {},
   "outputs": [
    {
     "name": "stdout",
     "output_type": "stream",
     "text": [
      "(2, 224, 224, 3)\n",
      "npy file loaded\n",
      "build model started\n"
     ]
    }
   ],
   "source": [
    "# img1 = utils.load_image(\"./test_data/tiger.jpeg\")\n",
    "# img2 = utils.load_image(\"./test_data/puzzle.jpeg\")\n",
    "\n",
    "# batch1 = img1.reshape((1, 224, 224, 3))\n",
    "# batch2 = img2.reshape((1, 224, 224, 3))\n",
    "\n",
    "# batch = np.concatenate((batch1, batch2), 0)\n",
    "vgg19_npy_path = './vgg19.npy'\n",
    "batch = np.asarray([img, img])\n",
    "\n",
    "# with tf.Session(config=tf.ConfigProto(gpu_options=(tf.GPUOptions(per_process_gpu_memory_fraction=0.7)))) as sess:\n",
    "with tf.device('/cpu:0'):\n",
    "    with tf.Session() as sess:\n",
    "        print(batch.shape)\n",
    "        images = tf.placeholder(\"float\", batch.shape)\n",
    "        feed_dict = {images: batch}\n",
    "\n",
    "        vgg = BallerVgg(vgg19_npy_path)\n",
    "        with tf.name_scope(\"content_vgg\"):\n",
    "            vgg.build(images)\n",
    "\n",
    "        sess.run(tf.global_variables_initializer())\n",
    "        prob = sess.run(vgg.prob, feed_dict=feed_dict)\n",
    "        \n"
   ]
  },
  {
   "cell_type": "code",
   "execution_count": 6,
   "metadata": {},
   "outputs": [
    {
     "name": "stdout",
     "output_type": "stream",
     "text": [
      "3\n"
     ]
    }
   ],
   "source": [
    "print(np.argmax(prob))"
   ]
  },
  {
   "cell_type": "code",
   "execution_count": null,
   "metadata": {},
   "outputs": [],
   "source": [
    "print(small_img)"
   ]
  },
  {
   "cell_type": "code",
   "execution_count": 5,
   "metadata": {},
   "outputs": [
    {
     "name": "stdout",
     "output_type": "stream",
     "text": [
      "[[ 0.04999584  0.05000218  0.04992034  0.05006843  0.05002617  0.04997812\n",
      "   0.05002993  0.04998861  0.05004044  0.05002121  0.04992968  0.04993442\n",
      "   0.04999132  0.0500589   0.05001743  0.04997482  0.0499574   0.05004147\n",
      "   0.05002249  0.05000079]]\n"
     ]
    }
   ],
   "source": [
    "print(prob)"
   ]
  },
  {
   "cell_type": "code",
   "execution_count": null,
   "metadata": {},
   "outputs": [],
   "source": []
  }
 ],
 "metadata": {
  "kernelspec": {
   "display_name": "Python 3",
   "language": "python",
   "name": "python3"
  },
  "language_info": {
   "codemirror_mode": {
    "name": "ipython",
    "version": 3
   },
   "file_extension": ".py",
   "mimetype": "text/x-python",
   "name": "python",
   "nbconvert_exporter": "python",
   "pygments_lexer": "ipython3",
   "version": "3.6.3"
  }
 },
 "nbformat": 4,
 "nbformat_minor": 2
}
