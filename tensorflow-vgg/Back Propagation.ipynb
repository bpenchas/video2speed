{
 "cells": [
  {
   "cell_type": "code",
   "execution_count": null,
   "metadata": {
    "collapsed": true
   },
   "outputs": [],
   "source": [
    "def backProp(batch, model):\n",
    "    # img1 = utils.load_image(\"./test_data/tiger.jpeg\")\n",
    "    # img2 = utils.load_image(\"./test_data/puzzle.jpeg\")\n",
    "\n",
    "    # batch1 = img1.reshape((1, 224, 224, 3))\n",
    "    # batch2 = img2.reshape((1, 224, 224, 3))\n",
    "\n",
    "    # batch = np.concatenate((batch1, batch2), 0)\n",
    "    vgg19_npy_path = './vgg19.npy'\n",
    "    #batch = np.asarray([img, img])\n",
    "\n",
    "    # with tf.Session(config=tf.ConfigProto(gpu_options=(tf.GPUOptions(per_process_gpu_memory_fraction=0.7)))) as sess:\n",
    "    with tf.device('/cpu:0'):\n",
    "        with tf.Graph().as_default():\n",
    "            with tf.Session() as sess:\n",
    "                print(batch.shape)\n",
    "                images = tf.placeholder(\"float\", batch.shape)\n",
    "                feed_dict = {images: batch}\n",
    "\n",
    "                vgg = BallerVgg(vgg19_npy_path)\n",
    "                optimizer = tf.train.GradientDescentOptimizer(.0001)\n",
    "                global_step = tf.Variable(0, name='global_step', trainable=False)\n",
    "                \n",
    "                labels = tf.to_int64(labels)\n",
    "                cross_entropy = tf.nn.sparse_softmax_cross_entropy_with_logits(labels=labels, logits=vgg.prob, name='xentropy')\n",
    "                \n",
    "                loss = tf.reduce_mean(cross_entropy, name='xentropy_mean')\n",
    "                train_op = optimizer.minimize(loss, global_step=global_step)\n",
    "\n",
    "                with tf.name_scope(\"content_vgg\"):\n",
    "                    vgg.build(images)\n",
    "                \n",
    "                sess.run(tf.global_variables_initializer())\n",
    "                for step in xrange(FLAGS.max_steps):\n",
    "                    feed_dict = fill_feed_dict(data_sets.train,\n",
    "                               images_placeholder,\n",
    "                               labels_placeholder)\n",
    "                    _, loss = sess.run(train_op, feed_dict = feed_dict)\n",
    "                prob = sess.run(vgg.prob, feed_dict=feed_dict)"
   ]
  }
 ],
 "metadata": {
  "kernelspec": {
   "display_name": "Python 3",
   "language": "python",
   "name": "python3"
  },
  "language_info": {
   "codemirror_mode": {
    "name": "ipython",
    "version": 2
   },
   "file_extension": ".py",
   "mimetype": "text/x-python",
   "name": "python",
   "nbconvert_exporter": "python",
   "pygments_lexer": "ipython2",
   "version": "2.7.13"
  }
 },
 "nbformat": 4,
 "nbformat_minor": 2
}
