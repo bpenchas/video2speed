{
 "cells": [
  {
   "cell_type": "code",
   "execution_count": 1,
   "metadata": {},
   "outputs": [
    {
     "name": "stderr",
     "output_type": "stream",
     "text": [
      "/usr/local/Cellar/python3/3.6.3/Frameworks/Python.framework/Versions/3.6/lib/python3.6/importlib/_bootstrap.py:219: RuntimeWarning: compiletime version 3.5 of module 'tensorflow.python.framework.fast_tensor_util' does not match runtime version 3.6\n",
      "  return f(*args, **kwds)\n"
     ]
    }
   ],
   "source": [
    "from vgg19 import BallerVgg\n",
    "import os\n",
    "import tensorflow as tf\n",
    "\n",
    "import numpy as np\n",
    "import time\n",
    "import inspect\n",
    "from PIL import Image\n",
    "#import utils"
   ]
  },
  {
   "cell_type": "code",
   "execution_count": 2,
   "metadata": {},
   "outputs": [],
   "source": [
    "def iterate_minibatches(X_train, y_train, batchsize):\n",
    "    while True:\n",
    "        for i in range(0, X_train.shape[0] // batchsize):\n",
    "            minibatch = X_train[i*batchsize:(i+1)*batchsize, :, :]\n",
    "            y_minibatch = y_train[i*batchsize:(i+1)*batchsize]\n",
    "            yield minibatch, y_minibatch"
   ]
  },
  {
   "cell_type": "code",
   "execution_count": 3,
   "metadata": {},
   "outputs": [],
   "source": [
    "def one_hot_labels(y_train):\n",
    "    averaged = np.sum(y_train, axis=1, keepdims=True) / 2\n",
    "    y_train_buckets = np.zeros((averaged.shape[0], 1, 20))\n",
    "\n",
    "    for i in range(averaged.shape[0]):\n",
    "        val = (averaged / 1.5)[i, 0]\n",
    "        y_train_buckets[i, 0, int(val)] = 1\n",
    "    \n",
    "    return y_train_buckets"
   ]
  },
  {
   "cell_type": "code",
   "execution_count": 4,
   "metadata": {},
   "outputs": [],
   "source": [
    "y_train = np.load(\"./train/y_train.npy\")\n",
    "X_train = np.load(\"./train/X_train.npy\", mmap_mode='r')"
   ]
  },
  {
   "cell_type": "code",
   "execution_count": null,
   "metadata": {},
   "outputs": [],
   "source": [
    "def train(X_train, y_train):\n",
    "\n",
    "    #batch1 = img1.reshape((1, 224, 224, 3))\n",
    "    #batch2 = img2.reshape((1, 224, 224, 3))\n",
    "\n",
    "    # with tf.Session(config=tf.ConfigProto(gpu_options=(tf.GPUOptions(per_process_gpu_memory_fraction=0.7)))) as sess:\n",
    "    with tf.device('/cpu:0'):\n",
    "        with tf.Graph().as_default():\n",
    "            with tf.Session() as sess:\n",
    "                vgg19_npy_path = '../../video2speed_data/vgg19.npy'\n",
    "                vgg = BallerVgg(vgg19_npy_path)\n",
    "\n",
    "                #images = tf.placeholder(\"float\", (816, 224, 224, 3))\n",
    "                images = tf.placeholder(\"float\", (24, 224, 224, 3))\n",
    "                labels_placeholder = tf.placeholder(\"int32\", (12))\n",
    "                \n",
    "                with tf.name_scope(\"content_vgg\"):\n",
    "                    vgg.build(images)\n",
    "\n",
    "                \n",
    "                optimizer = tf.train.AdamOptimizer(.1)\n",
    "                global_step = tf.Variable(0, name='global_step', trainable=False)\n",
    "                cross_entropy = tf.nn.sparse_softmax_cross_entropy_with_logits(labels=labels_placeholder, logits=vgg.prob, name='xentropy')\n",
    "\n",
    "                loss = tf.reduce_mean(cross_entropy, name='xentropy_mean')\n",
    "                train_op = optimizer.minimize(loss, global_step=global_step)\n",
    "\n",
    "                sess.run(tf.global_variables_initializer())\n",
    "\n",
    "                #for x_batch, y_batch in iterate_minibatches(X_train, y_train, 408):\n",
    "                #    x_batch = x_batch.reshape((816, 224, 224, 3))\n",
    "                for x_batch, y_batch in iterate_minibatches(X_train, y_train, 12):\n",
    "                    x_batch = x_batch.reshape((24, 224, 224, 3))\n",
    "                    averaged = (np.sum(y_batch, axis=1) / 2) // 1.5\n",
    "                    labels = averaged.astype(int)\n",
    "          \n",
    "                    feed_dict = {images: x_batch, labels_placeholder: labels}\n",
    "                    _, cost = sess.run([train_op, loss], feed_dict = feed_dict)\n",
    "                    print(cost)\n",
    "                    vgg.save_npy(sess, npy_path=\"./vgg19-save.npy\")"
   ]
  },
  {
   "cell_type": "code",
   "execution_count": null,
   "metadata": {},
   "outputs": [
    {
     "name": "stdout",
     "output_type": "stream",
     "text": [
      "npy file loaded\n",
      "build model started\n",
      "2.99573\n",
      "('file saved', './vgg19-save.npy')\n"
     ]
    }
   ],
   "source": [
    "train(X_train, y_train)"
   ]
  },
  {
   "cell_type": "code",
   "execution_count": null,
   "metadata": {},
   "outputs": [],
   "source": []
  }
 ],
 "metadata": {
  "kernelspec": {
   "display_name": "Python 3",
   "language": "python",
   "name": "python3"
  },
  "language_info": {
   "codemirror_mode": {
    "name": "ipython",
    "version": 3
   },
   "file_extension": ".py",
   "mimetype": "text/x-python",
   "name": "python",
   "nbconvert_exporter": "python",
   "pygments_lexer": "ipython3",
   "version": "3.6.3"
  }
 },
 "nbformat": 4,
 "nbformat_minor": 2
}
